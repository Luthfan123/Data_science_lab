{
 "cells": [
  {
   "cell_type": "code",
   "execution_count": 1,
   "metadata": {},
   "outputs": [
    {
     "name": "stdout",
     "output_type": "stream",
     "text": [
      "3 matrix from a matrix:\n",
      "\n",
      "[[-0.13511895  0.90281571  0.40824829]\n",
      " [-0.49633514  0.29493179 -0.81649658]\n",
      " [-0.85755134 -0.31295213  0.40824829]]\n",
      "\n",
      "\n",
      "[1.42267074e+01 1.26522599e+00 4.97902781e-16]\n",
      "\n",
      "\n",
      "[[-0.4663281  -0.57099079 -0.67565348]\n",
      " [-0.78477477 -0.08545673  0.61386131]\n",
      " [-0.40824829  0.81649658 -0.40824829]]\n"
     ]
    }
   ],
   "source": [
    "#svd\n",
    "from scipy.linalg import svd\n",
    "import numpy as np\n",
    "a=np.arange(9).reshape((3,3))\n",
    "u,s,t=svd(a)\n",
    "print(\"3 matrix from a matrix:\\n\")\n",
    "print(u)\n",
    "print(\"\\n\")\n",
    "print(s)\n",
    "print(\"\\n\")\n",
    "print(t)"
   ]
  },
  {
   "cell_type": "code",
   "execution_count": null,
   "metadata": {},
   "outputs": [],
   "source": []
  }
 ],
 "metadata": {
  "kernelspec": {
   "display_name": "Python 3",
   "language": "python",
   "name": "python3"
  },
  "language_info": {
   "codemirror_mode": {
    "name": "ipython",
    "version": 3
   },
   "file_extension": ".py",
   "mimetype": "text/x-python",
   "name": "python",
   "nbconvert_exporter": "python",
   "pygments_lexer": "ipython3",
   "version": "3.8.5"
  }
 },
 "nbformat": 4,
 "nbformat_minor": 4
}
