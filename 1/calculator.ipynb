{
 "cells": [
  {
   "cell_type": "code",
   "execution_count": 1,
   "metadata": {},
   "outputs": [
    {
     "name": "stdout",
     "output_type": "stream",
     "text": [
      "enter first number:3\n",
      "enter second number:4\n",
      "\n",
      "------------------\n",
      "OPTION\n",
      "------------------\n",
      "1.addition\n",
      "2.subtration\n",
      "multiplication\n",
      "division\n",
      "\n",
      "enter your option:1\n",
      "result: 7\n"
     ]
    }
   ],
   "source": [
    "#calculator\n",
    "a=int(input(\"enter first number:\"))\n",
    "b=int(input(\"enter second number:\"))\n",
    "print(\"\\n------------------\\nOPTION\\n------------------\\n1.addition\\n2.subtration\\nmultiplication\\ndivision\\n\")\n",
    "ch=int(input(\"enter your option:\"))\n",
    "if ch==1:\n",
    "    print(\"result:\",a+b)\n",
    "elif(ch==2):\n",
    "    print(\"result:\",a-b)\n",
    "elif(ch==3):\n",
    "    print(\"result:\",a*b)\n",
    "elif(ch==4):\n",
    "    print(\"result:\",a/b)\n",
    "else:\n",
    "    print(\"error\")\n",
    "    "
   ]
  },
  {
   "cell_type": "code",
   "execution_count": null,
   "metadata": {},
   "outputs": [],
   "source": []
  }
 ],
 "metadata": {
  "kernelspec": {
   "display_name": "Python 3",
   "language": "python",
   "name": "python3"
  },
  "language_info": {
   "codemirror_mode": {
    "name": "ipython",
    "version": 3
   },
   "file_extension": ".py",
   "mimetype": "text/x-python",
   "name": "python",
   "nbconvert_exporter": "python",
   "pygments_lexer": "ipython3",
   "version": "3.8.5"
  }
 },
 "nbformat": 4,
 "nbformat_minor": 4
}
