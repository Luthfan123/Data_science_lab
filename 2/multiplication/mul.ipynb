{
 "cells": [
  {
   "cell_type": "code",
   "execution_count": 1,
   "metadata": {},
   "outputs": [
    {
     "name": "stdout",
     "output_type": "stream",
     "text": [
      "\n",
      "first matrix:\n",
      "[[0 1 2]\n",
      " [3 4 5]\n",
      " [6 7 8]]\n",
      "\n",
      "second matrix:\n",
      "[[0 1 2]\n",
      " [3 4 5]\n",
      " [6 7 8]]\n",
      "\n",
      "multiplication:\n",
      "[[ 15  18  21]\n",
      " [ 42  54  66]\n",
      " [ 69  90 111]]\n",
      "\n",
      "transepose:\n",
      "[[ 15  42  69]\n",
      " [ 18  54  90]\n",
      " [ 21  66 111]]\n"
     ]
    }
   ],
   "source": [
    "#matrix multipliacation\n",
    "import numpy as np\n",
    "print(\"\\nfirst matrix:\")\n",
    "a=np.arange(9).reshape((3,3))\n",
    "print(a)\n",
    "print(\"\\nsecond matrix:\")\n",
    "b=np.arange(9).reshape((3,3))\n",
    "print(b)\n",
    "print(\"\\nmultiplication:\")\n",
    "c=np.dot(a,b)\n",
    "print(c)\n",
    "print(\"\\ntransepose:\")\n",
    "d=np.transpose(c)\n",
    "print(d)"
   ]
  },
  {
   "cell_type": "code",
   "execution_count": null,
   "metadata": {},
   "outputs": [],
   "source": []
  }
 ],
 "metadata": {
  "kernelspec": {
   "display_name": "Python 3",
   "language": "python",
   "name": "python3"
  },
  "language_info": {
   "codemirror_mode": {
    "name": "ipython",
    "version": 3
   },
   "file_extension": ".py",
   "mimetype": "text/x-python",
   "name": "python",
   "nbconvert_exporter": "python",
   "pygments_lexer": "ipython3",
   "version": "3.8.5"
  }
 },
 "nbformat": 4,
 "nbformat_minor": 4
}
